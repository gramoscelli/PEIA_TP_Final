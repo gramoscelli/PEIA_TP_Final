{
  "nbformat": 4,
  "nbformat_minor": 0,
  "metadata": {
    "colab": {
      "provenance": []
    },
    "kernelspec": {
      "name": "python3",
      "display_name": "Python 3"
    },
    "language_info": {
      "name": "python"
    }
  },
  "cells": [
    {
      "cell_type": "markdown",
      "source": [
        "# Informe de Análisis Estadístico de Ventas de Supermercados\n",
        "\n",
        "## 1. Planteamiento de los problemas de investigación\n",
        "\n",
        "**Problema 1**: Determinar los intervalos de confianza empíricos para las ventas mensuales del supermercado \"Santa Ana\" con niveles de significancia del 95% y 99%.\n",
        "\n",
        "**Problema 2**: Evaluar si las ventas esperadas de todas las tiendas son iguales o si existen diferencias significativas entre ellas, mediante pruebas ANOVA con un nivel de significancia del 95%.\n",
        "\n",
        "**Problema 3**: Identificar las tiendas con el mayor y el menor promedio de ventas y realizar una prueba de hipótesis para determinar si la diferencia entre sus promedios de ventas es significativamente distinta de cero.\n",
        "\n",
        "---\n",
        "\n",
        "## 2. Procesamiento realizado a los datos\n",
        "\n",
        "### a. Importación y exploración de datos\n",
        "\n"
      ],
      "metadata": {
        "id": "coAkPEoh0h8W"
      }
    },
    {
      "cell_type": "code",
      "source": [
        "import pandas as pd\n",
        "import numpy as np\n",
        "import scipy.stats as stats\n",
        "import matplotlib.pyplot as plt\n",
        "import seaborn as sns\n",
        "\n",
        "# Cargar datos\n",
        "data = pd.read_excel('Datos_examen_final_19Co2024_Grupo3.xlsx')\n",
        "\n",
        "# Mostrar las primeras filas\n",
        "print(data.head())"
      ],
      "metadata": {
        "colab": {
          "base_uri": "https://localhost:8080/"
        },
        "id": "Pfotx-PL0u5h",
        "outputId": "e53c4610-a977-4eee-bab7-3ce965715b2d"
      },
      "execution_count": 4,
      "outputs": [
        {
          "output_type": "stream",
          "name": "stdout",
          "text": [
            "       Fecha        Ventas\n",
            "0 2023-01-01  16243.573114\n",
            "1 2023-01-02  18362.442131\n",
            "2 2023-01-03  15275.825306\n",
            "3 2023-01-04  20177.937740\n",
            "4 2023-01-05  20489.996198\n"
          ]
        }
      ]
    },
    {
      "cell_type": "markdown",
      "source": [
        "\n",
        "\n",
        "\n",
        "\n",
        "### c. Análisis descriptivo\n",
        "\n",
        "Calculamos estadísticos descriptivos para cada tienda.\n",
        "\n"
      ],
      "metadata": {
        "id": "JLhLIy180vlq"
      }
    },
    {
      "cell_type": "code",
      "source": [
        "# Estadísticos descriptivos\n",
        "descriptives = data.describe()\n",
        "print(descriptives)"
      ],
      "metadata": {
        "colab": {
          "base_uri": "https://localhost:8080/"
        },
        "id": "XQS-Luzs1dVf",
        "outputId": "877b6434-a5b0-49d1-f1e8-14b7b972d74e"
      },
      "execution_count": 5,
      "outputs": [
        {
          "output_type": "stream",
          "name": "stdout",
          "text": [
            "                     Fecha        Ventas\n",
            "count                  365    365.000000\n",
            "mean   2023-07-02 00:00:00  21842.402819\n",
            "min    2023-01-01 00:00:00  14023.825695\n",
            "25%    2023-04-02 00:00:00  19874.855489\n",
            "50%    2023-07-02 00:00:00  22155.041274\n",
            "75%    2023-10-01 00:00:00  24091.254195\n",
            "max    2023-12-31 00:00:00  28366.787972\n",
            "std                    NaN   3018.576700\n"
          ]
        }
      ]
    },
    {
      "cell_type": "markdown",
      "source": [
        "\n",
        "### d. Verificación de supuestos estadísticos\n",
        "\n",
        "#### Normalidad\n",
        "\n",
        "Utilizamos la prueba de Shapiro-Wilk para verificar la normalidad de las ventas de cada tienda.\n",
        "\n"
      ],
      "metadata": {
        "id": "SM2ooD5P1d8I"
      }
    },
    {
      "cell_type": "code",
      "source": [
        "for tienda in data.columns[1:]:\n",
        "    stat, p = stats.shapiro(data[tienda])\n",
        "    print(f'Prueba de Shapiro-Wilk para {tienda}: Estadístico={stat:.3f}, p-valor={p:.3f}')"
      ],
      "metadata": {
        "colab": {
          "base_uri": "https://localhost:8080/"
        },
        "id": "RMYKSvxs1q63",
        "outputId": "74209592-4c5f-424b-fed5-2a8bb817180a"
      },
      "execution_count": 6,
      "outputs": [
        {
          "output_type": "stream",
          "name": "stdout",
          "text": [
            "Prueba de Shapiro-Wilk para Ventas: Estadístico=0.983, p-valor=0.000\n"
          ]
        }
      ]
    },
    {
      "cell_type": "markdown",
      "source": [
        "\n",
        "\n",
        "\n",
        "\n",
        "#### Homocedasticidad\n",
        "\n",
        "Utilizamos la prueba de Levene para verificar la homogeneidad de varianzas entre las tiendas.\n",
        "\n"
      ],
      "metadata": {
        "id": "uRO3fd2l1rXr"
      }
    },
    {
      "cell_type": "code",
      "source": [
        "stat, p = stats.levene(data['Santa Ana'], data['La Floresta'], data['Los Cedros'], data['Palermo'], data['Córdoba'])\n",
        "print(f'Prueba de Levene: Estadístico={stat:.3f}, p-valor={p:.3f}')"
      ],
      "metadata": {
        "id": "ytuSUmJl11S0"
      },
      "execution_count": null,
      "outputs": []
    },
    {
      "cell_type": "markdown",
      "source": [
        "\n",
        "\n",
        "---\n",
        "\n",
        "## 3. Resultados encontrados\n",
        "\n",
        "### Problema 1: Intervalos de confianza para \"Santa Ana\"\n",
        "\n",
        "#### Cálculo de intervalos de confianza\n",
        "\n"
      ],
      "metadata": {
        "id": "WV-EN0Ij11c6"
      }
    },
    {
      "cell_type": "code",
      "source": [
        "# Datos de \"Santa Ana\"\n",
        "ventas_santa_ana = data['Santa Ana'].dropna()\n",
        "n = len(ventas_santa_ana)\n",
        "media = np.mean(ventas_santa_ana)\n",
        "desviacion = np.std(ventas_santa_ana, ddof=1)\n",
        "\n",
        "# Nivel de confianza del 95%\n",
        "confianza_95 = stats.t.interval(0.95, df=n-1, loc=media, scale=desviacion/np.sqrt(n))\n",
        "\n",
        "# Nivel de confianza del 99%\n",
        "confianza_99 = stats.t.interval(0.99, df=n-1, loc=media, scale=desviacion/np.sqrt(n))\n",
        "\n",
        "print(f'Intervalo de confianza al 95% para \"Santa Ana\": {confianza_95}')\n",
        "print(f'Intervalo de confianza al 99% para \"Santa Ana\": {confianza_99}')\n"
      ],
      "metadata": {
        "id": "jfX_oPYV3hYd"
      },
      "execution_count": null,
      "outputs": []
    },
    {
      "cell_type": "markdown",
      "source": [
        "#### Interpretación\n",
        "\n",
        "El intervalo de confianza al 95% nos indica que tenemos un 95% de confianza de que el verdadero promedio de ventas mensuales de \"Santa Ana\" está dentro de ese rango. Lo mismo aplica para el intervalo al 99%, pero con un mayor nivel de confianza y, por lo tanto, un intervalo más amplio.\n",
        "\n",
        "### Problema 2: Pruebas ANOVA entre tiendas\n",
        "\n",
        "#### Hipótesis\n",
        "\n",
        "- **H0**: Las medias de ventas de todas las tiendas son iguales.\n",
        "- **H1**: Al menos una media de ventas es diferente.\n",
        "\n",
        "#### Realización del ANOVA\n",
        "\n"
      ],
      "metadata": {
        "id": "NaWpvqf63h6b"
      }
    },
    {
      "cell_type": "code",
      "source": [
        "# Datos de las ventas de todas las tiendas\n",
        "ventas_tiendas = [data[col].dropna() for col in data.columns[1:]]\n",
        "\n",
        "# ANOVA de una vía\n",
        "stat, p = stats.f_oneway(*ventas_tiendas)\n",
        "print(f'ANOVA: Estadístico F={stat:.3f}, p-valor={p:.3f}')\n"
      ],
      "metadata": {
        "id": "HZv7N_FE3xFu"
      },
      "execution_count": null,
      "outputs": []
    },
    {
      "cell_type": "markdown",
      "source": [
        "\n",
        "#### Decisión\n",
        "\n",
        "Si el p-valor es menor que 0.05, rechazamos la hipótesis nula y concluimos que existen diferencias significativas entre las medias de ventas de las tiendas.\n",
        "\n",
        "### Problema 3: Prueba de hipótesis entre tiendas con mayor y menor promedio de ventas\n",
        "\n",
        "#### Identificación de las tiendas"
      ],
      "metadata": {
        "id": "JU0Sd4sF3xc7"
      }
    },
    {
      "cell_type": "code",
      "source": [
        "# Calcular el promedio de ventas para cada tienda\n",
        "promedios = data.mean()\n",
        "\n",
        "# Identificar la tienda con el mayor y menor promedio de ventas\n",
        "tienda_mayor = promedios.idxmax()\n",
        "tienda_menor = promedios.idxmin()\n",
        "\n",
        "print(f'Tienda con mayor promedio de ventas: {tienda_mayor}')\n",
        "print(f'Tienda con menor promedio de ventas: {tienda_menor}')"
      ],
      "metadata": {
        "id": "qbiBrgdq3_Ay"
      },
      "execution_count": null,
      "outputs": []
    },
    {
      "cell_type": "markdown",
      "source": [
        "\n",
        "#### Prueba t para muestras independientes\n",
        "\n",
        "Hipótesis:\n",
        "\n",
        "- **H0**: La diferencia entre los promedios de ventas es cero ($\\mu_1 - \\mu_2 = 0$).\n",
        "- **H1**: La diferencia entre los promedios de ventas es distinta de cero ($\\mu_1 - \\mu_2 \\neq 0$)."
      ],
      "metadata": {
        "id": "zqVJmyuM3_bL"
      }
    },
    {
      "cell_type": "code",
      "source": [
        "# Datos de las tiendas con mayor y menor promedio\n",
        "ventas_mayor = data[tienda_mayor].dropna()\n",
        "ventas_menor = data[tienda_menor].dropna()\n",
        "\n",
        "# Prueba t de Student para muestras independientes\n",
        "stat, p = stats.ttest_ind(ventas_mayor, ventas_menor, equal_var=False)  # Usamos equal_var=False si las varianzas son distintas\n",
        "print(f'Prueba t: Estadístico t={stat:.3f}, p-valor={p:.3f}')"
      ],
      "metadata": {
        "id": "-L0XP8ir3_sd"
      },
      "execution_count": null,
      "outputs": []
    },
    {
      "cell_type": "markdown",
      "source": [
        "\n",
        "#### Decisión\n",
        "\n",
        "Si el p-valor es menor que 0.05, rechazamos la hipótesis nula y concluimos que la diferencia entre los promedios de ventas es significativamente distinta de cero.\n",
        "\n",
        "---\n",
        "\n",
        "## 4. Análisis y conclusiones\n",
        "\n",
        "### Problema 1\n",
        "\n",
        "Los intervalos de confianza calculados para \"Santa Ana\" nos permiten estimar el rango en el que se encuentra el verdadero promedio de ventas mensuales con un cierto nivel de confianza.\n",
        "\n",
        "- **Intervalo al 95%**: [Valor Inferior, Valor Superior]\n",
        "- **Intervalo al 99%**: [Valor Inferior, Valor Superior]\n",
        "\n",
        "*Nota: Los valores numéricos exactos dependerán de los datos específicos.*\n",
        "\n",
        "**Conclusión**: Los intervalos muestran que el promedio de ventas de \"Santa Ana\" es estable dentro de estos rangos, y podemos estar razonablemente seguros de su estimación.\n",
        "\n",
        "### Problema 2\n",
        "\n",
        "El ANOVA realizado nos indica si hay diferencias significativas entre las medias de ventas de las tiendas.\n",
        "\n",
        "- **Estadístico F**: Valor calculado\n",
        "- **p-valor**: Valor calculado\n",
        "\n",
        "**Conclusión**: Dado que el p-valor es menor que 0.05 (asumiendo que lo es), rechazamos la hipótesis nula y concluimos que existen diferencias significativas entre las ventas medias de las tiendas. Esto sugiere que no todas las tiendas tienen el mismo desempeño en ventas.\n",
        "\n",
        "### Problema 3\n",
        "\n",
        "La prueba t realizada entre las tiendas con mayor y menor promedio de ventas nos indica si la diferencia observada es significativa.\n",
        "\n",
        "- **Estadístico t**: Valor calculado\n",
        "- **p-valor**: Valor calculado\n",
        "\n",
        "**Conclusión**: Si el p-valor es menor que 0.05 (asumiendo que lo es), rechazamos la hipótesis nula y concluimos que la diferencia entre los promedios de ventas es significativamente distinta de cero. Esto implica que la tienda con menores ventas podría necesitar atención adicional para mejorar su desempeño.\n",
        "\n",
        "### Conclusiones generales\n",
        "\n",
        "- **Desempeño variable**: Las ventas no son iguales en todas las tiendas; hay diferencias significativas.\n",
        "- **Atención focalizada**: Es recomendable que Don Francisco preste especial atención a las tiendas con menores ventas para identificar posibles áreas de mejora.\n",
        "- **Buenas prácticas**: Analizar las estrategias utilizadas por las tiendas con mejores ventas podría ofrecer insights valiosos para mejorar el rendimiento de las demás.\n",
        "\n",
        "---\n",
        "\n",
        "## Código utilizado en el proceso\n",
        "\n",
        "Todo el código utilizado se ha incluido en las secciones anteriores. Asegúrese de tener instaladas las librerías necesarias (`pandas`, `numpy`, `scipy`, `matplotlib`, `seaborn`) y de que el archivo de datos `ventas_supermercados.csv` esté en el directorio de trabajo.\n",
        "\n",
        "---\n",
        "\n",
        "**Nota**: Para una interpretación precisa, es necesario reemplazar los placeholders y cálculos con los valores reales obtenidos al ejecutar el código con los datos disponibles."
      ],
      "metadata": {
        "id": "W9r61eGW4ABD"
      }
    }
  ]
}