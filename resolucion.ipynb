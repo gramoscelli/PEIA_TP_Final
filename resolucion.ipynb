{
 "cells": [
  {
   "cell_type": "markdown",
   "metadata": {
    "id": "coAkPEoh0h8W"
   },
   "source": [
    "### Enunciado del Problema\n",
    "\n",
    "Siguiendo con la historia de Don Francisco, con el tiempo y gracias a los análisis de Matías, el pequeño comerciante de barrio cuenta hoy con 5 supermercados: **'Santa Ana', 'La Floresta', 'Los Cedros', 'Palermo' y 'Córdoba'**.  \n",
    "También Matías ha avanzado en la Especialización en Inteligencia Artificial. Un día Don Francisco le plantea algunas inquietudes adicionales:\n",
    "\n",
    "1. Don Francisco quiere entender mejor las ventas por mes del supermercado **'Santa Ana'**.\n",
    "2. Más aún, Don Francisco no sabe si puede estar seguro de que las ventas son las mismas en todos los supermercados o si hay alguno que se comporte mejor que los demás, y si alguna de las tiendas necesita más atención porque sus ventas sean peores que los demás.\n",
    "\n",
    "Con base en lo anterior:\n",
    "\n",
    "1. **(2.5 puntos)** Determinen intervalos de confianza empíricos para el supermercado **'Santa Ana'** en cada mes, para significancias del **95 %** y el **99 %**.\n",
    "2. **(2.5 puntos)** Realicen pruebas **ANOVA** para determinar si las ventas esperadas de todas las tiendas son iguales o no, con significancia del **95 %**.\n",
    "3. **(2.5 puntos)** Identifiquen la tienda con mayor promedio de ventas y la tienda con menor promedio de ventas y realicen una prueba de hipótesis para determinar si la diferencia entre ellas es distinta de cero o no.\n",
    "\n",
    "Deben realizar un informe en un documento PDF, en donde queden claros los siguientes aspectos:\n",
    "\n",
    "1. Planteamiento de los problemas de investigación.\n",
    "2. Procesamiento realizado a los datos.\n",
    "3. Resultados encontrados.\n",
    "4. Análisis y conclusiones.\n",
    "\n",
    "Deben entregar también el código utilizado en el proceso.  \n",
    "\n",
    "\n",
    "### Importación y exploración de datos"
   ]
  },
  {
   "cell_type": "code",
   "execution_count": 3,
   "metadata": {},
   "outputs": [
    {
     "name": "stdout",
     "output_type": "stream",
     "text": [
      "Defaulting to user installation because normal site-packages is not writeable\n",
      "Collecting openpyxl\n",
      "  Downloading openpyxl-3.1.5-py2.py3-none-any.whl (250 kB)\n",
      "     |████████████████████████████████| 250 kB 850 kB/s            00:01\n",
      "\u001b[?25hCollecting et-xmlfile\n",
      "  Downloading et_xmlfile-2.0.0-py3-none-any.whl (18 kB)\n",
      "Installing collected packages: et-xmlfile, openpyxl\n",
      "Successfully installed et-xmlfile-2.0.0 openpyxl-3.1.5\n",
      "Note: you may need to restart the kernel to use updated packages.\n"
     ]
    }
   ],
   "source": [
    "%pip install openpyxl"
   ]
  },
  {
   "cell_type": "code",
   "execution_count": 4,
   "metadata": {
    "colab": {
     "base_uri": "https://localhost:8080/"
    },
    "id": "Pfotx-PL0u5h",
    "outputId": "e53c4610-a977-4eee-bab7-3ce965715b2d"
   },
   "outputs": [
    {
     "name": "stdout",
     "output_type": "stream",
     "text": [
      "       Fecha        Ventas\n",
      "0 2023-01-01  16243.573114\n",
      "1 2023-01-02  18362.442131\n",
      "2 2023-01-03  15275.825306\n",
      "3 2023-01-04  20177.937740\n",
      "4 2023-01-05  20489.996198\n"
     ]
    }
   ],
   "source": [
    "import pandas as pd\n",
    "import numpy as np\n",
    "import scipy.stats as stats\n",
    "import matplotlib.pyplot as plt\n",
    "import seaborn as sns\n",
    "\n",
    "# Cargar datos\n",
    "data = pd.read_excel('Datos_examen_final_19Co2024_Grupo3.xlsx')\n",
    "\n",
    "# Mostrar las primeras filas\n",
    "print(data.head())"
   ]
  },
  {
   "cell_type": "markdown",
   "metadata": {
    "id": "JLhLIy180vlq"
   },
   "source": [
    "### 1) Intervalos de confianza empíricos\n",
    "Obetención de los intervalos de confianza empíricos para el supermercado **'Santa Ana'** en cada mes, para significancias del **95 %** y el **99 %**."
   ]
  },
  {
   "cell_type": "code",
   "execution_count": 6,
   "metadata": {},
   "outputs": [
    {
     "name": "stdout",
     "output_type": "stream",
     "text": [
      "        Mes         Media   IC_95_Lower   IC_95_Upper   IC_99_Lower  \\\n",
      "0   2023-01  17882.625616  16966.119445  18799.131788  16648.516044   \n",
      "1   2023-02  20489.721713  19323.378671  21656.064755  18914.754013   \n",
      "2   2023-03  22400.070906  21401.625624  23398.516187  21055.627281   \n",
      "3   2023-04  20803.362632  19712.975774  21893.749490  19333.832315   \n",
      "4   2023-05  22083.220637  21303.876547  22862.564728  21033.804897   \n",
      "5   2023-06  23823.728580  22969.797121  24677.660039  22672.872663   \n",
      "6   2023-07  21751.222072  20728.696450  22773.747694  20374.353375   \n",
      "7   2023-08  23477.386722  22413.659639  24541.113804  22045.038729   \n",
      "8   2023-09  23113.905679  22371.655629  23856.155730  22113.564430   \n",
      "9   2023-10  23082.379683  22201.390930  23963.368435  21896.095633   \n",
      "10  2023-11  22674.138831  21617.739786  23730.537875  21250.414387   \n",
      "11  2023-12  20494.408859  19626.409996  21362.407722  19325.616178   \n",
      "\n",
      "     IC_99_Upper  \n",
      "0   19116.735189  \n",
      "1   22064.689412  \n",
      "2   23744.514531  \n",
      "3   22272.892950  \n",
      "4   23132.636377  \n",
      "5   24974.584498  \n",
      "6   23128.090769  \n",
      "7   24909.734715  \n",
      "8   24114.246929  \n",
      "9   24268.663732  \n",
      "10  24097.863274  \n",
      "11  21663.201540  \n"
     ]
    }
   ],
   "source": [
    "# Convertir la columna 'Fecha' a tipo datetime para agrupar por mes\n",
    "data['Fecha'] = pd.to_datetime(data['Fecha'])\n",
    "\n",
    "# Agregar una columna de año-mes\n",
    "data['Mes'] = data['Fecha'].dt.to_period('M')\n",
    "\n",
    "# Agrupar por mes y calcular el intervalo de confianza\n",
    "intervalos_confianza = []\n",
    "\n",
    "for mes, grupo in data.groupby('Mes'):\n",
    "    ventas = grupo['Ventas']\n",
    "    mean = ventas.mean()\n",
    "    sem = stats.sem(ventas)  # Error estándar de la media\n",
    "    \n",
    "    # Intervalos de confianza al 95% y 99%\n",
    "    ci_95 = stats.t.interval(0.95, len(ventas)-1, loc=mean, scale=sem)\n",
    "    ci_99 = stats.t.interval(0.99, len(ventas)-1, loc=mean, scale=sem)\n",
    "    \n",
    "    intervalos_confianza.append({\n",
    "        'Mes': mes,\n",
    "        'Media': mean,\n",
    "        'IC_95_Lower': ci_95[0],\n",
    "        'IC_95_Upper': ci_95[1],\n",
    "        'IC_99_Lower': ci_99[0],\n",
    "        'IC_99_Upper': ci_99[1]\n",
    "    })\n",
    "\n",
    "# Convertir los resultados a un DataFrame\n",
    "df_intervalos = pd.DataFrame(intervalos_confianza)\n",
    "\n",
    "# Mostrar los resultados\n",
    "print(df_intervalos)"
   ]
  },
  {
   "cell_type": "markdown",
   "metadata": {
    "id": "NaWpvqf63h6b"
   },
   "source": [
    "#### Interpretación\n",
    "\n",
    "El intervalo de confianza al 95% nos indica que tenemos un 95% de confianza de que el verdadero promedio de ventas mensuales de \"Santa Ana\" está dentro de ese rango. Lo mismo aplica para el intervalo al 99%, pero con un mayor nivel de confianza y, por lo tanto, un intervalo más amplio.\n",
    "\n",
    "### 2) Pruebas ANOVA entre tiendas\n",
    "\n",
    "#### Hipótesis\n",
    "\n",
    "- **H0**: Las medias de ventas de todas las tiendas son iguales.\n",
    "- **H1**: Al menos una media de ventas es diferente.\n",
    "El valor \\( p \\) es una medida estadística que nos indica la probabilidad de observar los datos obtenidos, o algo más extremo, asumiendo que la hipótesis nula (\\( H_0 \\)) es verdadera. En el caso de la prueba ANOVA:\n",
    "\n",
    "### Hipótesis en ANOVA:\n",
    "1. **Hipótesis nula (\\( H_0 \\))**: Las medias de las ventas son iguales para todas las tiendas.\n",
    "2. **Hipótesis alternativa (\\( H_a \\))**: Al menos una de las medias de las ventas es diferente.\n",
    "\n",
    "### Interpretación del valor \\( p \\):\n",
    "- Si el valor \\( p \\) es **menor** que el nivel de significancia (\\( \\alpha \\), por ejemplo, 0.05 para un 95 % de confianza):\n",
    "  - Se **rechaza** la hipótesis nula.\n",
    "  - Concluimos que existen diferencias significativas en las medias de ventas entre al menos dos tiendas.\n",
    "  \n",
    "- Si el valor \\( p \\) es **mayor o igual** que el nivel de significancia (\\( \\alpha \\)):\n",
    "  - No se puede rechazar la hipótesis nula.\n",
    "  - Concluimos que no hay evidencia estadística suficiente para afirmar que las medias de ventas son diferentes entre las tiendas.\n",
    "\n",
    "#### Realización del ANOVA\n",
    "\n"
   ]
  },
  {
   "cell_type": "code",
   "execution_count": 7,
   "metadata": {
    "id": "HZv7N_FE3xFu"
   },
   "outputs": [
    {
     "name": "stdout",
     "output_type": "stream",
     "text": [
      "Resultado ANOVA:\n",
      "F-statistic: 114.4505102185901\n",
      "P-value: 3.8904025989851754e-87\n",
      "Rechazamos la hipótesis nula: las medias de ventas no son iguales para todas las tiendas.\n"
     ]
    }
   ],
   "source": [
    "# Datos de las ventas de todas las tiendas\n",
    "import pandas as pd\n",
    "from scipy.stats import f_oneway\n",
    "\n",
    "# Cargar las hojas del archivo Excel\n",
    "file_path = 'Datos_examen_final_19Co2024_Grupo3.xlsx'\n",
    "sheets = pd.ExcelFile(file_path)\n",
    "\n",
    "# Crear un diccionario para almacenar las ventas de cada tienda\n",
    "ventas_por_tienda = {}\n",
    "\n",
    "# Leer las pestañas del archivo y extraer las ventas\n",
    "for sheet_name in sheets.sheet_names:\n",
    "    data = pd.read_excel(file_path, sheet_name=sheet_name)\n",
    "    ventas_por_tienda[sheet_name] = data['Ventas']\n",
    "\n",
    "# Realizar la prueba ANOVA\n",
    "ventas = list(ventas_por_tienda.values())\n",
    "anova_result = f_oneway(*ventas)\n",
    "\n",
    "# Mostrar resultados\n",
    "print(\"Resultado ANOVA:\")\n",
    "print(f\"F-statistic: {anova_result.statistic}\")\n",
    "print(f\"P-value: {anova_result.pvalue}\")\n",
    "\n",
    "# Interpretación\n",
    "alpha = 0.05\n",
    "if anova_result.pvalue < alpha:\n",
    "    print(\"Rechazamos la hipótesis nula: las medias de ventas no son iguales para todas las tiendas.\")\n",
    "else:\n",
    "    print(\"No se rechaza la hipótesis nula: las medias de ventas son iguales para todas las tiendas.\")\n"
   ]
  },
  {
   "cell_type": "markdown",
   "metadata": {},
   "source": [
    "### Visualización"
   ]
  },
  {
   "cell_type": "code",
   "execution_count": 8,
   "metadata": {},
   "outputs": [
    {
     "data": {
      "image/png": "[encoded data removed]",
      "text/plain": [
       "<Figure size 1000x600 with 1 Axes>"
      ]
     },
     "metadata": {},
     "output_type": "display_data"
    },
    {
     "data": {
      "image/png": "[encoded data removed]",
      "text/plain": [
       "<Figure size 1000x600 with 1 Axes>"
      ]
     },
     "metadata": {},
     "output_type": "display_data"
    }
   ],
   "source": [
    "import matplotlib.pyplot as plt\n",
    "import seaborn as sns\n",
    "import pandas as pd\n",
    "\n",
    "# Prepare the data for visualization\n",
    "file_path = 'Datos_examen_final_19Co2024_Grupo3.xlsx'\n",
    "sheets = pd.ExcelFile(file_path)\n",
    "all_data = []\n",
    "\n",
    "for sheet_name in sheets.sheet_names:\n",
    "    data = pd.read_excel(file_path, sheet_name=sheet_name)\n",
    "    data['Tienda'] = sheet_name  # Add a column for the store name\n",
    "    all_data.append(data)\n",
    "\n",
    "# Combine all data into one DataFrame\n",
    "combined_data = pd.concat(all_data, ignore_index=True)\n",
    "\n",
    "# Boxplot\n",
    "plt.figure(figsize=(10, 6))\n",
    "sns.boxplot(x='Tienda', y='Ventas', data=combined_data)\n",
    "plt.title('Distribución de Ventas por Tienda')\n",
    "plt.xlabel('Tienda')\n",
    "plt.ylabel('Ventas')\n",
    "plt.show()\n",
    "\n",
    "# Bar plot with error bars\n",
    "plt.figure(figsize=(10, 6))\n",
    "mean_sales = combined_data.groupby('Tienda')['Ventas'].mean()\n",
    "std_error = combined_data.groupby('Tienda')['Ventas'].sem()\n",
    "\n",
    "plt.bar(mean_sales.index, mean_sales, yerr=std_error, capsize=5)\n",
    "plt.title('Promedio de Ventas por Tienda con Barras de Error')\n",
    "plt.xlabel('Tienda')\n",
    "plt.ylabel('Promedio de Ventas')\n",
    "plt.show()\n"
   ]
  },
  {
   "cell_type": "markdown",
   "metadata": {
    "id": "JU0Sd4sF3xc7"
   },
   "source": [
    "\n",
    "#### Decisión\n",
    "\n",
    "Cómo el p-valor es menor que 0.05, rechazamos la hipótesis nula y concluimos que existen diferencias significativas entre las medias de ventas de las tiendas.\n",
    "\n",
    "### 3) Prueba de hipótesis entre tiendas con mayor y menor promedio de ventas\n",
    "\n",
    "#### Prueba t para muestras independientes\n",
    "\n",
    "Hipótesis:\n",
    "\n",
    "- **H0**: La diferencia entre los promedios de ventas es cero ($\\mu_1 - \\mu_2 = 0$).\n",
    "- **H1**: La diferencia entre los promedios de ventas es distinta de cero ($\\mu_1 - \\mu_2 \\neq 0$)."
   ]
  },
  {
   "cell_type": "code",
   "execution_count": 9,
   "metadata": {
    "id": "qbiBrgdq3_Ay"
   },
   "outputs": [
    {
     "name": "stdout",
     "output_type": "stream",
     "text": [
      "Tienda con mayor promedio de ventas: Santa Ana - Promedio: 21842.40\n",
      "Tienda con menor promedio de ventas: La Floresta - Promedio: 18049.11\n",
      "\n",
      "Prueba de hipótesis:\n",
      "T-statistic: 16.2263\n",
      "P-value: 0.0000\n",
      "Rechazamos la hipótesis nula: la diferencia entre los promedios de ventas es significativa.\n"
     ]
    }
   ],
   "source": [
    "import pandas as pd\n",
    "from scipy.stats import ttest_ind\n",
    "\n",
    "# Cargar las hojas del archivo Excel\n",
    "file_path = 'Datos_examen_final_19Co2024_Grupo3.xlsx'\n",
    "sheets = pd.ExcelFile(file_path)\n",
    "\n",
    "# Crear un diccionario para almacenar las ventas de cada tienda\n",
    "ventas_por_tienda = {}\n",
    "\n",
    "# Leer las pestañas del archivo y extraer las ventas\n",
    "for sheet_name in sheets.sheet_names:\n",
    "    data = pd.read_excel(file_path, sheet_name=sheet_name)\n",
    "    ventas_por_tienda[sheet_name] = data['Ventas']\n",
    "\n",
    "# Calcular los promedios de ventas para cada tienda\n",
    "promedios_ventas = {tienda: ventas.mean() for tienda, ventas in ventas_por_tienda.items()}\n",
    "\n",
    "# Identificar la tienda con el mayor y menor promedio de ventas\n",
    "tienda_mayor = max(promedios_ventas, key=promedios_ventas.get)\n",
    "tienda_menor = min(promedios_ventas, key=promedios_ventas.get)\n",
    "\n",
    "print(f\"Tienda con mayor promedio de ventas: {tienda_mayor} - Promedio: {promedios_ventas[tienda_mayor]:.2f}\")\n",
    "print(f\"Tienda con menor promedio de ventas: {tienda_menor} - Promedio: {promedios_ventas[tienda_menor]:.2f}\")\n",
    "\n",
    "# Obtener los datos de ventas para las dos tiendas\n",
    "ventas_mayor = ventas_por_tienda[tienda_mayor]\n",
    "ventas_menor = ventas_por_tienda[tienda_menor]\n",
    "\n",
    "# Realizar prueba de hipótesis t\n",
    "t_stat, p_value = ttest_ind(ventas_mayor, ventas_menor, equal_var=False)\n",
    "\n",
    "print(\"\\nPrueba de hipótesis:\")\n",
    "print(f\"T-statistic: {t_stat:.4f}\")\n",
    "print(f\"P-value: {p_value:.4f}\")\n",
    "\n",
    "# Interpretación\n",
    "alpha = 0.05\n",
    "if p_value < alpha:\n",
    "    print(\"Rechazamos la hipótesis nula: la diferencia entre los promedios de ventas es significativa.\")\n",
    "else:\n",
    "    print(\"No se rechaza la hipótesis nula: la diferencia entre los promedios de ventas no es significativa.\")"
   ]
  },
  {
   "cell_type": "markdown",
   "metadata": {
    "id": "W9r61eGW4ABD"
   },
   "source": [
    "\n",
    "#### Decisión\n",
    "\n",
    "Si el p-valor es menor que 0.05, rechazamos la hipótesis nula y concluimos que la diferencia entre los promedios de ventas es significativamente distinta de cero.\n",
    "\n",
    "---\n",
    "\n",
    "## Análisis y conclusiones\n",
    "\n",
    "### Problema 1\n",
    "\n",
    "Los intervalos de confianza calculados para \"Santa Ana\" nos permiten estimar el rango en el que se encuentra el verdadero promedio de ventas mensuales con un cierto nivel de confianza.\n",
    "\n",
    "- **Intervalo al 95%**: [Valor Inferior, Valor Superior]\n",
    "- **Intervalo al 99%**: [Valor Inferior, Valor Superior]\n",
    "\n",
    "\n",
    "**Conclusión**: Los intervalos muestran que el promedio de ventas de \"Santa Ana\" es estable dentro de estos rangos, y podemos estar razonablemente seguros de su estimación.\n",
    "\n",
    "### Problema 2\n",
    "\n",
    "El ANOVA realizado nos indica si hay diferencias significativas entre las medias de ventas de las tiendas.\n",
    "\n",
    "- **Estadístico F**: Valor calculado\n",
    "- **p-valor**: Valor calculado\n",
    "\n",
    "**Conclusión**: Dado que el p-valor es menor que 0.05 (asumiendo que lo es), rechazamos la hipótesis nula y concluimos que existen diferencias significativas entre las ventas medias de las tiendas. Esto sugiere que no todas las tiendas tienen el mismo desempeño en ventas.\n",
    "\n",
    "### Problema 3\n",
    "\n",
    "La prueba t realizada entre las tiendas con mayor y menor promedio de ventas nos indica si la diferencia observada es significativa.\n",
    "\n",
    "- **Estadístico t**: Valor calculado\n",
    "- **p-valor**: Valor calculado\n",
    "\n",
    "**Conclusión**: Si el p-valor es menor que 0.05 (asumiendo que lo es), rechazamos la hipótesis nula y concluimos que la diferencia entre los promedios de ventas es significativamente distinta de cero. Esto implica que la tienda con menores ventas podría necesitar atención adicional para mejorar su desempeño."
   ]
  }
 ],
 "metadata": {
  "colab": {
   "provenance": []
  },
  "kernelspec": {
   "display_name": "Python 3",
   "name": "python3"
  },
  "language_info": {
   "codemirror_mode": {
    "name": "ipython",
    "version": 3
   },
   "file_extension": ".py",
   "mimetype": "text/x-python",
   "name": "python",
   "nbconvert_exporter": "python",
   "pygments_lexer": "ipython3",
   "version": "3.10.15"
  }
 },
 "nbformat": 4,
 "nbformat_minor": 0
}
